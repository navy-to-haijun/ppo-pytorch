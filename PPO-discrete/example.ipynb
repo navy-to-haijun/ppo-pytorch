{
 "cells": [
  {
   "cell_type": "code",
   "execution_count": 11,
   "metadata": {},
   "outputs": [],
   "source": [
    "import numpy as np\n",
    "import gym\n",
    "gym.logger.set_level(40)"
   ]
  },
  {
   "cell_type": "code",
   "execution_count": 6,
   "metadata": {},
   "outputs": [
    {
     "name": "stdout",
     "output_type": "stream",
     "text": [
      "state_dim=8\n",
      "action_dim=4\n",
      "max_episode_steps=1000\n"
     ]
    }
   ],
   "source": [
    "env = gym.make(\"LunarLander-v2\")\n",
    "# 随机种子\n",
    "seed=0\n",
    "env.seed(seed)\n",
    "env.action_space.seed(seed)\n",
    "# 状态空间,动作空间\n",
    "state_dim = env.observation_space.shape[0]\n",
    "action_dim = env.action_space.n\n",
    "max_episode_steps = env._max_episode_steps\n",
    "print(\"state_dim={}\".format(state_dim))\n",
    "print(\"action_dim={}\".format(action_dim))\n",
    "print(\"max_episode_steps={}\".format(max_episode_steps))"
   ]
  },
  {
   "cell_type": "code",
   "execution_count": 4,
   "metadata": {},
   "outputs": [
    {
     "name": "stdout",
     "output_type": "stream",
     "text": [
      "tensor([0, 1, 2, 3, 4, 5])\n",
      "torch.Size([6])\n",
      "tensor([[0, 1, 2, 3, 4, 5]])\n",
      "torch.Size([1, 6])\n"
     ]
    }
   ],
   "source": [
    "import torch\n",
    "input=torch.arange(0,6)\n",
    "print(input)\n",
    "print(input.shape)\n",
    "# unsqueeze升维度\n",
    "print(input.unsqueeze(0))\n",
    "print(input.unsqueeze(0).shape)"
   ]
  },
  {
   "cell_type": "code",
   "execution_count": 9,
   "metadata": {},
   "outputs": [
    {
     "name": "stdout",
     "output_type": "stream",
     "text": [
      "Categorical(probs: torch.Size([1, 3]))\n",
      "2 -0.105360545\n"
     ]
    }
   ],
   "source": [
    "# 按照概率采样\n",
    "from torch.distributions import Categorical\n",
    "probs = torch.FloatTensor([[0.05,0.05,0.9]])\n",
    " \n",
    "dist = Categorical(probs)\n",
    "print(dist)\n",
    "# Categorical(probs: torch.Size([2, 3]))\n",
    "a = dist.sample()\n",
    "a_logprob = dist.log_prob(a)\n",
    "print(a.numpy()[0], a_logprob.numpy()[0])\n"
   ]
  },
  {
   "cell_type": "code",
   "execution_count": 17,
   "metadata": {},
   "outputs": [
    {
     "name": "stdout",
     "output_type": "stream",
     "text": [
      "(10, 9)\n"
     ]
    }
   ],
   "source": [
    "a = np.zeros((10, 9)).shape\n",
    "print(a)"
   ]
  },
  {
   "cell_type": "code",
   "execution_count": 21,
   "metadata": {},
   "outputs": [
    {
     "name": "stdout",
     "output_type": "stream",
     "text": [
      "['actor loss', 'critic loss', 'step_rewards_LunarLander-v2']\n",
      "[ScalarEvent(wall_time=1665917103.4098227, step=2048, value=0.1644444316625595), ScalarEvent(wall_time=1665917103.4278367, step=2048, value=0.02630607783794403), ScalarEvent(wall_time=1665917103.437912, step=2048, value=0.003164529800415039), ScalarEvent(wall_time=1665917103.4829261, step=2048, value=0.02070854976773262), ScalarEvent(wall_time=1665917103.487344, step=2048, value=-0.049103088676929474)]\n"
     ]
    }
   ],
   "source": [
    "from tensorboard.backend.event_processing import event_accumulator\n",
    "ea = event_accumulator.EventAccumulator(\"runs/PPO_discrete/env_LunarLander-v2_number_1_seed_0/events.out.tfevents.1665917101.haijun-Lenovo.20266.0\")\n",
    "ea.Reload()\n",
    "print(ea.scalars.Keys())\n",
    "val = ea.scalars.Items('actor loss')\n",
    "print(val[0:5])"
   ]
  }
 ],
 "metadata": {
  "interpreter": {
   "hash": "4355cb3767e2eef021314e92b94ce600a9307d8313c591c42dad1888320a8d96"
  },
  "kernelspec": {
   "display_name": "Python 3.7.13 ('robot')",
   "language": "python",
   "name": "python3"
  },
  "language_info": {
   "codemirror_mode": {
    "name": "ipython",
    "version": 3
   },
   "file_extension": ".py",
   "mimetype": "text/x-python",
   "name": "python",
   "nbconvert_exporter": "python",
   "pygments_lexer": "ipython3",
   "version": "3.7.13"
  },
  "orig_nbformat": 4
 },
 "nbformat": 4,
 "nbformat_minor": 2
}
